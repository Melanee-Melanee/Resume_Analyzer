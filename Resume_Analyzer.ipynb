{
 "cells": [
  {
   "cell_type": "markdown",
   "id": "ac237675",
   "metadata": {
    "heading_collapsed": true
   },
   "source": [
    "# Simple resume analyzer\n",
    "\n",
    "This notebook helps recruiters and hiring managers to detect the best resumes very quickly based on their custom keywords. This code can accelerate finding a matched employee.\n",
    "\n",
    "This notebook is developed by Melanee on this repository: https://github.com/Melanee-Melanee/Resume_Analyzer"
   ]
  },
  {
   "cell_type": "markdown",
   "id": "0649c273",
   "metadata": {},
   "source": [
    "# Usage\n",
    "1- Install PyPDF2: ``` !pip install PyPDF2 ```\n",
    "\n",
    "2- Move all the resumes in a same directory and define your directory path in: ``` directory_path ```\n",
    "\n",
    "3- Replace your custom keywords in: ``` keywords ```\n",
    "\n",
    "4- Run the cell"
   ]
  },
  {
   "cell_type": "code",
   "execution_count": 1,
   "id": "503a4fae",
   "metadata": {},
   "outputs": [
    {
     "name": "stdout",
     "output_type": "stream",
     "text": [
      "Defaulting to user installation because normal site-packages is not writeable\n",
      "Requirement already satisfied: PyPDF2 in /home/melanee/.local/lib/python3.10/site-packages (3.0.1)\n",
      "\u001b[33mWARNING: Error parsing dependencies of send2trash: Expected matching RIGHT_PARENTHESIS for LEFT_PARENTHESIS, after version specifier\n",
      "    sys-platform (==\"darwin\") ; extra == 'objc'\n",
      "                 ~^\u001b[0m\u001b[33m\n",
      "\u001b[0m"
     ]
    }
   ],
   "source": [
    "!pip install PyPDF2 "
   ]
  },
  {
   "cell_type": "code",
   "execution_count": 5,
   "id": "760b3dae",
   "metadata": {},
   "outputs": [
    {
     "name": "stdout",
     "output_type": "stream",
     "text": [
      " PDF: /home/melanee/Resume_2.pdf (Total Keywords: 19)\n",
      "python : 7\n",
      "data : 2\n",
      "science : 3\n",
      "AI : 6\n",
      "machine learning : 1\n",
      " PDF: /home/melanee/Resume_1.pdf (Total Keywords: 14)\n",
      "python : 4\n",
      "data : 1\n",
      "science : 1\n",
      "AI : 6\n",
      "machine learning : 2\n",
      " PDF: /home/melanee/Resume_3.pdf (Total Keywords: 10)\n",
      "python : 0\n",
      "data : 2\n",
      "science : 3\n",
      "AI : 2\n",
      "machine learning : 3\n"
     ]
    }
   ],
   "source": [
    "#count function in the strings for some keywords in multiple PDFs and sort them\n",
    "\n",
    "import os\n",
    "import PyPDF2\n",
    "\n",
    "def count_keywords_in_pdf(pdf_path, keywords):\n",
    "    \n",
    "    keyword_counts = {keyword: 0 for keyword in keywords}\n",
    "\n",
    "    with open(pdf_path, 'rb') as file:\n",
    "        \n",
    "        reader = PyPDF2.PdfReader(file)\n",
    "        for page in reader.pages:\n",
    "            \n",
    "            text = page.extract_text()\n",
    "            if text: # Check if text extraction was successful\n",
    "                \n",
    "                text = text.lower() # Convert to lower case for case-insensitive matching\n",
    "                for keyword in keywords:\n",
    "                    \n",
    "                    keyword_lower = keyword.lower()\n",
    "                    keyword_counts[keyword] += text.count(keyword_lower)\n",
    "\n",
    "    return keyword_counts\n",
    "\n",
    "def count_keywords_in_directory(directory, keywords):\n",
    "    \n",
    "    pdf_keyword_counts = []\n",
    "    \n",
    "    for filename in os.listdir(directory):\n",
    "        \n",
    "        if filename.endswith('.pdf'):\n",
    "                \n",
    "            pdf_path = os.path.join(directory, filename)\n",
    "            counts = count_keywords_in_pdf(pdf_path, keywords)\n",
    "            total_count = sum(counts.values())\n",
    "            pdf_keyword_counts.append((pdf_path, counts, total_count))\n",
    "            \n",
    "    pdf_keyword_counts.sort(key=lambda x: x[2], reverse=True)\n",
    "    \n",
    "    # Print sorted results\n",
    "    for pdf_path, counts, total_count in pdf_keyword_counts:\n",
    "           \n",
    "        print(f\" PDF: {pdf_path} (Total Keywords: {total_count})\")\n",
    "        for keyword, count in counts.items():\n",
    "            print(keyword, \":\", count)\n",
    "\n",
    "\n",
    "# Example usage\n",
    "directory_path = '/home/melanee/' # Change this to your PDF directory\n",
    "\n",
    "keywords = ['python', 'data', 'science', 'AI', 'machine learning'] # Replace with your custom keywords\n",
    "\n",
    "count_keywords_in_directory(directory_path, keywords)"
   ]
  },
  {
   "cell_type": "markdown",
   "id": "23522672",
   "metadata": {},
   "source": [
    "# Warning\n",
    "This notebook is under license and any publishing without referring to my repository is prohibited!\n",
    "\n",
    "Developer: [Melanee](https://github.com/Melanee-Melanee/Resume_Analyzer)"
   ]
  }
 ],
 "metadata": {
  "kernelspec": {
   "display_name": "Python 3 (ipykernel)",
   "language": "python",
   "name": "python3"
  },
  "language_info": {
   "codemirror_mode": {
    "name": "ipython",
    "version": 3
   },
   "file_extension": ".py",
   "mimetype": "text/x-python",
   "name": "python",
   "nbconvert_exporter": "python",
   "pygments_lexer": "ipython3",
   "version": "3.10.12"
  },
  "toc": {
   "base_numbering": 1,
   "nav_menu": {},
   "number_sections": true,
   "sideBar": true,
   "skip_h1_title": false,
   "title_cell": "Table of Contents",
   "title_sidebar": "Contents",
   "toc_cell": false,
   "toc_position": {},
   "toc_section_display": true,
   "toc_window_display": false
  },
  "varInspector": {
   "cols": {
    "lenName": 16,
    "lenType": 16,
    "lenVar": 40
   },
   "kernels_config": {
    "python": {
     "delete_cmd_postfix": "",
     "delete_cmd_prefix": "del ",
     "library": "var_list.py",
     "varRefreshCmd": "print(var_dic_list())"
    },
    "r": {
     "delete_cmd_postfix": ") ",
     "delete_cmd_prefix": "rm(",
     "library": "var_list.r",
     "varRefreshCmd": "cat(var_dic_list()) "
    }
   },
   "types_to_exclude": [
    "module",
    "function",
    "builtin_function_or_method",
    "instance",
    "_Feature"
   ],
   "window_display": false
  }
 },
 "nbformat": 4,
 "nbformat_minor": 5
}
